{
 "cells": [
  {
   "cell_type": "markdown",
   "metadata": {},
   "source": [
    "# Getting Started with Pandas"
   ]
  },
  {
   "cell_type": "markdown",
   "metadata": {},
   "source": [
    "Pandas is a great library for dealing with the tabular content. It is used extensively in data analysis. \\\\ \n",
    "Let's <code>import</code> te Pandas library."
   ]
  },
  {
   "cell_type": "code",
   "execution_count": 42,
   "metadata": {},
   "outputs": [],
   "source": [
    "import pandas as pd \n",
    "from pandas import Series , DataFrame"
   ]
  },
  {
   "cell_type": "markdown",
   "metadata": {},
   "source": [
    "### Series"
   ]
  },
  {
   "cell_type": "markdown",
   "metadata": {},
   "source": [
    "Series is a 1D array like object. We use the syntax <code>pd.series(<*object*>)</code>. Whenever we declare a series they are stored as the values and their indexes by default those indexes are 0,1,2,3 etc. </br>\n",
    "Let's see an example for it "
   ]
  },
  {
   "cell_type": "code",
   "execution_count": 43,
   "metadata": {},
   "outputs": [
    {
     "data": {
      "text/plain": [
       "0      ram\n",
       "1    shyam\n",
       "2    kanha\n",
       "dtype: object"
      ]
     },
     "execution_count": 43,
     "metadata": {},
     "output_type": "execute_result"
    }
   ],
   "source": [
    "List=[\"ram\",\"shyam\",\"kanha\"]\n",
    "obj=pd.Series(List)\n",
    "obj"
   ]
  },
  {
   "cell_type": "markdown",
   "metadata": {},
   "source": [
    "Let's access the indexes and the values seperately. </br>\n",
    "To get indexes we use <code>obj.indexes</code>and to get values we use <code>obj.values</code>."
   ]
  },
  {
   "cell_type": "code",
   "execution_count": 44,
   "metadata": {},
   "outputs": [
    {
     "name": "stdout",
     "output_type": "stream",
     "text": [
      "['ram' 'shyam' 'kanha']\n",
      "RangeIndex(start=0, stop=3, step=1)\n"
     ]
    }
   ],
   "source": [
    "print(obj.values)\n",
    "print(obj.index)"
   ]
  },
  {
   "cell_type": "markdown",
   "metadata": {},
   "source": [
    "We can assign indexes with our choice by passing the labels to the <code>index</code> attribute."
   ]
  },
  {
   "cell_type": "code",
   "execution_count": 45,
   "metadata": {},
   "outputs": [
    {
     "name": "stdout",
     "output_type": "stream",
     "text": [
      "first friend       ram\n",
      "second friend    shyam\n",
      "third friend     kanha\n",
      "dtype: object\n"
     ]
    }
   ],
   "source": [
    "obj2=pd.Series([\"ram\",\"shyam\",\"kanha\"],index=[\"first friend\",\"second friend\",\"third friend\"])\n",
    "print(obj2)"
   ]
  },
  {
   "cell_type": "code",
   "execution_count": 46,
   "metadata": {},
   "outputs": [
    {
     "name": "stdout",
     "output_type": "stream",
     "text": [
      "first friend       ram\n",
      "second friend    shyam\n",
      "third friend     kanha\n",
      "dtype: object\n"
     ]
    }
   ],
   "source": [
    "obj2=pd.Series([\"ram\",\"shyam\",\"kanha\"],index=[\"first friend\",\"second friend\",\"third friend\"])\n",
    "print(obj2)"
   ]
  },
  {
   "cell_type": "markdown",
   "metadata": {},
   "source": [
    "We can explicitly input the index and the values and we can also edit them."
   ]
  },
  {
   "cell_type": "code",
   "execution_count": 47,
   "metadata": {},
   "outputs": [
    {
     "data": {
      "text/plain": [
       "first friend          ram\n",
       "second friend       shyam\n",
       "third friend        kanha\n",
       "forth friend     kanhaiya\n",
       "dtype: object"
      ]
     },
     "execution_count": 47,
     "metadata": {},
     "output_type": "execute_result"
    }
   ],
   "source": [
    "#Accessing the value \n",
    "obj2[\"third friend\"]\n",
    "obj2[\"forth friend\"]=\"kanhaiya\"\n",
    "obj2"
   ]
  },
  {
   "cell_type": "markdown",
   "metadata": {},
   "source": [
    "Let us define a series **Num** and see about the **boolean indexing**."
   ]
  },
  {
   "cell_type": "code",
   "execution_count": 48,
   "metadata": {},
   "outputs": [
    {
     "data": {
      "text/plain": [
       "a    2\n",
       "b    4\n",
       "c    6\n",
       "d   -4\n",
       "e   -2\n",
       "f   -8\n",
       "g    8\n",
       "h    5\n",
       "dtype: int64"
      ]
     },
     "execution_count": 48,
     "metadata": {},
     "output_type": "execute_result"
    }
   ],
   "source": [
    "Num=pd.Series([2,4,6,-4,-2,-8,8,5],index=[\"a\",\"b\",\"c\",\"d\",\"e\",\"f\",\"g\",\"h\"])\n",
    "Num"
   ]
  },
  {
   "cell_type": "code",
   "execution_count": 49,
   "metadata": {},
   "outputs": [
    {
     "data": {
      "text/plain": [
       "a    2\n",
       "b    4\n",
       "c    6\n",
       "g    8\n",
       "h    5\n",
       "dtype: int64"
      ]
     },
     "execution_count": 49,
     "metadata": {},
     "output_type": "execute_result"
    }
   ],
   "source": [
    "Num[Num>0]"
   ]
  },
  {
   "cell_type": "markdown",
   "metadata": {},
   "source": [
    "Let update the values which are less than 0 by 0."
   ]
  },
  {
   "cell_type": "code",
   "execution_count": 50,
   "metadata": {},
   "outputs": [
    {
     "data": {
      "text/plain": [
       "a    2\n",
       "b    4\n",
       "c    6\n",
       "d    0\n",
       "e    0\n",
       "f    0\n",
       "g    8\n",
       "h    5\n",
       "dtype: int64"
      ]
     },
     "execution_count": 50,
     "metadata": {},
     "output_type": "execute_result"
    }
   ],
   "source": [
    "Num[Num<0]=0\n",
    "Num"
   ]
  },
  {
   "cell_type": "markdown",
   "metadata": {},
   "source": [
    "Let's make it more interesting by operating the series with scalars"
   ]
  },
  {
   "cell_type": "code",
   "execution_count": 51,
   "metadata": {},
   "outputs": [
    {
     "name": "stdout",
     "output_type": "stream",
     "text": [
      "0    28\n",
      "1    50\n",
      "2    58\n",
      "3    72\n",
      "4    28\n",
      "5    46\n",
      "dtype: int64\n",
      "0     529\n",
      "1    2025\n",
      "2    2809\n",
      "3    4489\n",
      "4     529\n",
      "5    1681\n",
      "dtype: int64\n",
      "0     529\n",
      "1    2025\n",
      "2    2809\n",
      "3    4489\n",
      "4     529\n",
      "5    1681\n",
      "dtype: int64\n",
      "0    0.043478\n",
      "1    0.022222\n",
      "2    0.018868\n",
      "3    0.014925\n",
      "4    0.043478\n",
      "5    0.024390\n",
      "dtype: float64\n"
     ]
    }
   ],
   "source": [
    "Art=pd.Series([23,45,53,67,23,41])\n",
    "print(Art+5)\n",
    "print(Art*Art)\n",
    "print(Art**2)\n",
    "print(1/Art)"
   ]
  },
  {
   "cell_type": "markdown",
   "metadata": {},
   "source": [
    "We can define Series by a fixed length ordered dictionary mapping from **indexes** to **values**."
   ]
  },
  {
   "cell_type": "markdown",
   "metadata": {},
   "source": [
    "NumPy mathematical, boolean functions and operations can be used on an object. "
   ]
  },
  {
   "cell_type": "markdown",
   "metadata": {},
   "source": [
    "## Dictionary to a series"
   ]
  },
  {
   "cell_type": "markdown",
   "metadata": {},
   "source": [
    "As we have seen earlier that series can be defined as a fixed length orderered dictionary mapped from indexes to the values. </br> Let's create a series by a dictionary."
   ]
  },
  {
   "cell_type": "code",
   "execution_count": 52,
   "metadata": {},
   "outputs": [
    {
     "data": {
      "text/plain": [
       "first friend        Ram\n",
       "second friend     shyam\n",
       "third friend     rakesh\n",
       "dtype: object"
      ]
     },
     "execution_count": 52,
     "metadata": {},
     "output_type": "execute_result"
    }
   ],
   "source": [
    "data={\"first friend\":\"Ram\",\"second friend\":\"shyam\",\"third friend\":\"rakesh\"}\n",
    "sdata=pd.Series(data)\n",
    "sdata"
   ]
  },
  {
   "cell_type": "markdown",
   "metadata": {},
   "source": [
    "We can update the indexes of the indexes of the series in the order we want "
   ]
  },
  {
   "cell_type": "code",
   "execution_count": 53,
   "metadata": {},
   "outputs": [
    {
     "data": {
      "text/plain": [
       "second friend     shyam\n",
       "first friend        Ram\n",
       "third friend     rakesh\n",
       "dtype: object"
      ]
     },
     "execution_count": 53,
     "metadata": {},
     "output_type": "execute_result"
    }
   ],
   "source": [
    "sdata=pd.Series(data,index=[\"second friend\",\"first friend\", \"third friend\"])\n",
    "sdata"
   ]
  },
  {
   "cell_type": "code",
   "execution_count": 54,
   "metadata": {},
   "outputs": [
    {
     "data": {
      "text/plain": [
       "first friend        Ram\n",
       "second friend     shyam\n",
       "third friend     rakesh\n",
       "forth friend        NaN\n",
       "dtype: object"
      ]
     },
     "execution_count": 54,
     "metadata": {},
     "output_type": "execute_result"
    }
   ],
   "source": [
    "sdata=pd.Series(data,index=[\"first friend\",\"second friend\",\"third friend\",\"forth friend\"])\n",
    "sdata"
   ]
  },
  {
   "cell_type": "code",
   "execution_count": 55,
   "metadata": {},
   "outputs": [],
   "source": [
    "sdata[\"forth friend\"]=\"Rajesh\""
   ]
  },
  {
   "cell_type": "code",
   "execution_count": 56,
   "metadata": {},
   "outputs": [
    {
     "data": {
      "text/plain": [
       "first friend        Ram\n",
       "second friend     shyam\n",
       "third friend     rakesh\n",
       "forth friend     Rajesh\n",
       "dtype: object"
      ]
     },
     "execution_count": 56,
     "metadata": {},
     "output_type": "execute_result"
    }
   ],
   "source": [
    "sdata"
   ]
  },
  {
   "cell_type": "markdown",
   "metadata": {},
   "source": [
    "As we saw the some values are <code>nan</code>. During data analysis it is important sometimes that what values are missing. To find those values we can use the syntax like <code>pd.isnull(<*series*>)</code> or <code>pd.notnull(<*series*>)</code>."
   ]
  },
  {
   "cell_type": "markdown",
   "metadata": {},
   "source": [
    "### Name Attribute"
   ]
  },
  {
   "cell_type": "code",
   "execution_count": 57,
   "metadata": {},
   "outputs": [],
   "source": [
    "sdata.name=\"Friendship\"\n",
    "sdata.index.name=\"Serial\""
   ]
  },
  {
   "cell_type": "code",
   "execution_count": 58,
   "metadata": {},
   "outputs": [
    {
     "data": {
      "text/plain": [
       "Serial\n",
       "first friend        Ram\n",
       "second friend     shyam\n",
       "third friend     rakesh\n",
       "forth friend     Rajesh\n",
       "Name: Friendship, dtype: object"
      ]
     },
     "execution_count": 58,
     "metadata": {},
     "output_type": "execute_result"
    }
   ],
   "source": [
    "sdata"
   ]
  },
  {
   "cell_type": "markdown",
   "metadata": {},
   "source": [
    "## DataFrame"
   ]
  },
  {
   "cell_type": "markdown",
   "metadata": {},
   "source": [
    "DataFrame is the rectangular table of data. a collection of data and has both rows and columns as indexes. </br>\n",
    "So this is a tabular collection of data. Let's understand how this DataFrame looks like. This DataFrame can be seen like a dictionary where each key is containing a value which is  itself a series."
   ]
  },
  {
   "cell_type": "code",
   "execution_count": 59,
   "metadata": {},
   "outputs": [
    {
     "data": {
      "text/html": [
       "<div>\n",
       "<style scoped>\n",
       "    .dataframe tbody tr th:only-of-type {\n",
       "        vertical-align: middle;\n",
       "    }\n",
       "\n",
       "    .dataframe tbody tr th {\n",
       "        vertical-align: top;\n",
       "    }\n",
       "\n",
       "    .dataframe thead th {\n",
       "        text-align: right;\n",
       "    }\n",
       "</style>\n",
       "<table border=\"1\" class=\"dataframe\">\n",
       "  <thead>\n",
       "    <tr style=\"text-align: right;\">\n",
       "      <th></th>\n",
       "      <th>lovinish</th>\n",
       "      <th>asmit</th>\n",
       "      <th>subhrajyoti</th>\n",
       "    </tr>\n",
       "  </thead>\n",
       "  <tbody>\n",
       "    <tr>\n",
       "      <th>0</th>\n",
       "      <td>121</td>\n",
       "      <td>123</td>\n",
       "      <td>134</td>\n",
       "    </tr>\n",
       "    <tr>\n",
       "      <th>1</th>\n",
       "      <td>soni</td>\n",
       "      <td>tripathi</td>\n",
       "      <td>adhikari</td>\n",
       "    </tr>\n",
       "    <tr>\n",
       "      <th>2</th>\n",
       "      <td>delhi</td>\n",
       "      <td>lucknow</td>\n",
       "      <td>bengal</td>\n",
       "    </tr>\n",
       "  </tbody>\n",
       "</table>\n",
       "</div>"
      ],
      "text/plain": [
       "  lovinish     asmit subhrajyoti\n",
       "0      121       123         134\n",
       "1     soni  tripathi    adhikari\n",
       "2    delhi   lucknow      bengal"
      ]
     },
     "execution_count": 59,
     "metadata": {},
     "output_type": "execute_result"
    }
   ],
   "source": [
    "data_dict={\"lovinish\":[121,\"soni\",\"delhi\"],\"asmit\":[123,\"tripathi\",\"lucknow\"],\"subhrajyoti\":[134,\"adhikari\",\"bengal\"]}\n",
    "df=pd.DataFrame(data_dict)\n",
    "df"
   ]
  },
  {
   "cell_type": "markdown",
   "metadata": {},
   "source": [
    "<code><*DataFrame*>.head()</code>- This displays the first 5 rows of the DataFrame.</br>\n",
    " We can give **column** name by oursleves using this syntax <code>pd.DataFrame(data,columns=<*list of column name*>)</code> </br>\n",
    " Another way where we can declare the **index** too is the syntax <code>pd.DataFrame(data,columns=<*list of column name*>,index=<*list of index name*>)"
   ]
  },
  {
   "cell_type": "markdown",
   "metadata": {},
   "source": [
    "* <code><*dataframe*>.columns</code>- The syntax gives the name of the columns of the datframe.\n",
    "* <code><*dataframe*>[<*attribute*>]</code>- By this method new columns can be created in a dataframe.\n"
   ]
  },
  {
   "cell_type": "code",
   "execution_count": 60,
   "metadata": {},
   "outputs": [
    {
     "name": "stdout",
     "output_type": "stream",
     "text": [
      "Index(['lovinish', 'asmit', 'subhrajyoti'], dtype='object')\n",
      "RangeIndex(start=0, stop=3, step=1)\n"
     ]
    }
   ],
   "source": [
    "print(df.columns)\n",
    "print(df.index)"
   ]
  },
  {
   "cell_type": "code",
   "execution_count": 71,
   "metadata": {},
   "outputs": [
    {
     "name": "stdout",
     "output_type": "stream",
     "text": [
      "         lovinish     asmit subhrajyoti\n",
      "RNo           121       123         134\n",
      "Surname      soni  tripathi    adhikari\n",
      "Location    delhi   lucknow      bengal\n",
      "Index(['lovinish', 'asmit', 'subhrajyoti'], dtype='object')\n",
      "Index(['RNo', 'Surname', 'Location'], dtype='object')\n"
     ]
    }
   ],
   "source": [
    "students=pd.DataFrame(data_dict, index=[\"RNo\",\"Surname\",\"Location\"])\n",
    "print(students)\n",
    "print(students.columns)\n",
    "print(students.index)"
   ]
  },
  {
   "cell_type": "code",
   "execution_count": 72,
   "metadata": {},
   "outputs": [
    {
     "data": {
      "text/html": [
       "<div>\n",
       "<style scoped>\n",
       "    .dataframe tbody tr th:only-of-type {\n",
       "        vertical-align: middle;\n",
       "    }\n",
       "\n",
       "    .dataframe tbody tr th {\n",
       "        vertical-align: top;\n",
       "    }\n",
       "\n",
       "    .dataframe thead th {\n",
       "        text-align: right;\n",
       "    }\n",
       "</style>\n",
       "<table border=\"1\" class=\"dataframe\">\n",
       "  <thead>\n",
       "    <tr style=\"text-align: right;\">\n",
       "      <th></th>\n",
       "      <th>lovinish</th>\n",
       "      <th>asmit</th>\n",
       "      <th>subhrajyoti</th>\n",
       "      <th>Sagar</th>\n",
       "    </tr>\n",
       "  </thead>\n",
       "  <tbody>\n",
       "    <tr>\n",
       "      <th>RNo</th>\n",
       "      <td>121</td>\n",
       "      <td>123</td>\n",
       "      <td>134</td>\n",
       "      <td>122</td>\n",
       "    </tr>\n",
       "    <tr>\n",
       "      <th>Surname</th>\n",
       "      <td>soni</td>\n",
       "      <td>tripathi</td>\n",
       "      <td>adhikari</td>\n",
       "      <td>Bisht</td>\n",
       "    </tr>\n",
       "    <tr>\n",
       "      <th>Location</th>\n",
       "      <td>delhi</td>\n",
       "      <td>lucknow</td>\n",
       "      <td>bengal</td>\n",
       "      <td>Uttarakhand</td>\n",
       "    </tr>\n",
       "  </tbody>\n",
       "</table>\n",
       "</div>"
      ],
      "text/plain": [
       "         lovinish     asmit subhrajyoti        Sagar\n",
       "RNo           121       123         134          122\n",
       "Surname      soni  tripathi    adhikari        Bisht\n",
       "Location    delhi   lucknow      bengal  Uttarakhand"
      ]
     },
     "execution_count": 72,
     "metadata": {},
     "output_type": "execute_result"
    }
   ],
   "source": [
    "#Adding new column\n",
    "students[\"Sagar\"]=[\"122\",\"Bisht\",\"Uttarakhand\"]\n",
    "students"
   ]
  },
  {
   "cell_type": "code",
   "execution_count": 73,
   "metadata": {},
   "outputs": [
    {
     "data": {
      "text/plain": [
       "RNo                 122\n",
       "Surname           Bisht\n",
       "Location    Uttarakhand\n",
       "Name: Sagar, dtype: object"
      ]
     },
     "execution_count": 73,
     "metadata": {},
     "output_type": "execute_result"
    }
   ],
   "source": [
    "#Accessing a column\n",
    "students.Sagar"
   ]
  },
  {
   "cell_type": "code",
   "execution_count": 74,
   "metadata": {},
   "outputs": [
    {
     "data": {
      "text/plain": [
       "lovinish             delhi\n",
       "asmit              lucknow\n",
       "subhrajyoti         bengal\n",
       "Sagar          Uttarakhand\n",
       "Name: Location, dtype: object"
      ]
     },
     "execution_count": 74,
     "metadata": {},
     "output_type": "execute_result"
    }
   ],
   "source": [
    "#Accessing a row by .loc\n",
    "students.loc[\"Location\"]"
   ]
  },
  {
   "cell_type": "code",
   "execution_count": 75,
   "metadata": {},
   "outputs": [
    {
     "data": {
      "text/html": [
       "<div>\n",
       "<style scoped>\n",
       "    .dataframe tbody tr th:only-of-type {\n",
       "        vertical-align: middle;\n",
       "    }\n",
       "\n",
       "    .dataframe tbody tr th {\n",
       "        vertical-align: top;\n",
       "    }\n",
       "\n",
       "    .dataframe thead th {\n",
       "        text-align: right;\n",
       "    }\n",
       "</style>\n",
       "<table border=\"1\" class=\"dataframe\">\n",
       "  <thead>\n",
       "    <tr style=\"text-align: right;\">\n",
       "      <th></th>\n",
       "      <th>lovinish</th>\n",
       "      <th>asmit</th>\n",
       "      <th>subhrajyoti</th>\n",
       "      <th>Sagar</th>\n",
       "    </tr>\n",
       "  </thead>\n",
       "  <tbody>\n",
       "    <tr>\n",
       "      <th>RNo</th>\n",
       "      <td>121</td>\n",
       "      <td>123</td>\n",
       "      <td>134</td>\n",
       "      <td>122</td>\n",
       "    </tr>\n",
       "    <tr>\n",
       "      <th>Surname</th>\n",
       "      <td>soni</td>\n",
       "      <td>tripathi</td>\n",
       "      <td>adhikari</td>\n",
       "      <td>Bisht</td>\n",
       "    </tr>\n",
       "    <tr>\n",
       "      <th>Location</th>\n",
       "      <td>delhi</td>\n",
       "      <td>lucknow</td>\n",
       "      <td>bengal</td>\n",
       "      <td>Uttarakhand</td>\n",
       "    </tr>\n",
       "    <tr>\n",
       "      <th>Year of admission</th>\n",
       "      <td>2023</td>\n",
       "      <td>2023</td>\n",
       "      <td>2023</td>\n",
       "      <td>2023</td>\n",
       "    </tr>\n",
       "  </tbody>\n",
       "</table>\n",
       "</div>"
      ],
      "text/plain": [
       "                  lovinish     asmit subhrajyoti        Sagar\n",
       "RNo                    121       123         134          122\n",
       "Surname               soni  tripathi    adhikari        Bisht\n",
       "Location             delhi   lucknow      bengal  Uttarakhand\n",
       "Year of admission     2023      2023        2023         2023"
      ]
     },
     "execution_count": 75,
     "metadata": {},
     "output_type": "execute_result"
    }
   ],
   "source": [
    "#Assigning a scalar value to a row\n",
    "students.loc[\"Year of admission\"]=2023\n",
    "students"
   ]
  },
  {
   "cell_type": "code",
   "execution_count": 76,
   "metadata": {},
   "outputs": [
    {
     "data": {
      "text/html": [
       "<div>\n",
       "<style scoped>\n",
       "    .dataframe tbody tr th:only-of-type {\n",
       "        vertical-align: middle;\n",
       "    }\n",
       "\n",
       "    .dataframe tbody tr th {\n",
       "        vertical-align: top;\n",
       "    }\n",
       "\n",
       "    .dataframe thead th {\n",
       "        text-align: right;\n",
       "    }\n",
       "</style>\n",
       "<table border=\"1\" class=\"dataframe\">\n",
       "  <thead>\n",
       "    <tr style=\"text-align: right;\">\n",
       "      <th></th>\n",
       "      <th>lovinish</th>\n",
       "      <th>asmit</th>\n",
       "      <th>subhrajyoti</th>\n",
       "      <th>Sagar</th>\n",
       "      <th>entry</th>\n",
       "    </tr>\n",
       "    <tr>\n",
       "      <th>Details</th>\n",
       "      <th></th>\n",
       "      <th></th>\n",
       "      <th></th>\n",
       "      <th></th>\n",
       "      <th></th>\n",
       "    </tr>\n",
       "  </thead>\n",
       "  <tbody>\n",
       "    <tr>\n",
       "      <th>RNo</th>\n",
       "      <td>121</td>\n",
       "      <td>123</td>\n",
       "      <td>134</td>\n",
       "      <td>122</td>\n",
       "      <td>0</td>\n",
       "    </tr>\n",
       "    <tr>\n",
       "      <th>Surname</th>\n",
       "      <td>soni</td>\n",
       "      <td>tripathi</td>\n",
       "      <td>adhikari</td>\n",
       "      <td>Bisht</td>\n",
       "      <td>1</td>\n",
       "    </tr>\n",
       "    <tr>\n",
       "      <th>Location</th>\n",
       "      <td>delhi</td>\n",
       "      <td>lucknow</td>\n",
       "      <td>bengal</td>\n",
       "      <td>Uttarakhand</td>\n",
       "      <td>2</td>\n",
       "    </tr>\n",
       "    <tr>\n",
       "      <th>Year of admission</th>\n",
       "      <td>2023</td>\n",
       "      <td>2023</td>\n",
       "      <td>2023</td>\n",
       "      <td>2023</td>\n",
       "      <td>3</td>\n",
       "    </tr>\n",
       "  </tbody>\n",
       "</table>\n",
       "</div>"
      ],
      "text/plain": [
       "                  lovinish     asmit subhrajyoti        Sagar  entry\n",
       "Details                                                             \n",
       "RNo                    121       123         134          122      0\n",
       "Surname               soni  tripathi    adhikari        Bisht      1\n",
       "Location             delhi   lucknow      bengal  Uttarakhand      2\n",
       "Year of admission     2023      2023        2023         2023      3"
      ]
     },
     "execution_count": 76,
     "metadata": {},
     "output_type": "execute_result"
    }
   ],
   "source": [
    "#Assigning an array to a new column\n",
    "import numpy as np\n",
    "students[\"entry\"]=np.arange(4)\n",
    "students.name=\"Student\"\n",
    "students.index.name=\"Details\"\n",
    "students"
   ]
  },
  {
   "cell_type": "code",
   "execution_count": 80,
   "metadata": {},
   "outputs": [
    {
     "data": {
      "text/html": [
       "<div>\n",
       "<style scoped>\n",
       "    .dataframe tbody tr th:only-of-type {\n",
       "        vertical-align: middle;\n",
       "    }\n",
       "\n",
       "    .dataframe tbody tr th {\n",
       "        vertical-align: top;\n",
       "    }\n",
       "\n",
       "    .dataframe thead th {\n",
       "        text-align: right;\n",
       "    }\n",
       "</style>\n",
       "<table border=\"1\" class=\"dataframe\">\n",
       "  <thead>\n",
       "    <tr style=\"text-align: right;\">\n",
       "      <th>Details</th>\n",
       "      <th>RNo</th>\n",
       "      <th>Surname</th>\n",
       "      <th>Location</th>\n",
       "      <th>Year of admission</th>\n",
       "    </tr>\n",
       "  </thead>\n",
       "  <tbody>\n",
       "    <tr>\n",
       "      <th>lovinish</th>\n",
       "      <td>121</td>\n",
       "      <td>soni</td>\n",
       "      <td>delhi</td>\n",
       "      <td>2023</td>\n",
       "    </tr>\n",
       "    <tr>\n",
       "      <th>asmit</th>\n",
       "      <td>123</td>\n",
       "      <td>tripathi</td>\n",
       "      <td>lucknow</td>\n",
       "      <td>2023</td>\n",
       "    </tr>\n",
       "    <tr>\n",
       "      <th>subhrajyoti</th>\n",
       "      <td>134</td>\n",
       "      <td>adhikari</td>\n",
       "      <td>bengal</td>\n",
       "      <td>2023</td>\n",
       "    </tr>\n",
       "    <tr>\n",
       "      <th>Sagar</th>\n",
       "      <td>122</td>\n",
       "      <td>Bisht</td>\n",
       "      <td>Uttarakhand</td>\n",
       "      <td>2023</td>\n",
       "    </tr>\n",
       "    <tr>\n",
       "      <th>entry</th>\n",
       "      <td>0</td>\n",
       "      <td>1</td>\n",
       "      <td>2</td>\n",
       "      <td>3</td>\n",
       "    </tr>\n",
       "  </tbody>\n",
       "</table>\n",
       "</div>"
      ],
      "text/plain": [
       "Details      RNo   Surname     Location Year of admission\n",
       "lovinish     121      soni        delhi              2023\n",
       "asmit        123  tripathi      lucknow              2023\n",
       "subhrajyoti  134  adhikari       bengal              2023\n",
       "Sagar        122     Bisht  Uttarakhand              2023\n",
       "entry          0         1            2                 3"
      ]
     },
     "execution_count": 80,
     "metadata": {},
     "output_type": "execute_result"
    }
   ],
   "source": [
    "students=students.T\n",
    "students"
   ]
  },
  {
   "cell_type": "code",
   "execution_count": 82,
   "metadata": {},
   "outputs": [
    {
     "ename": "TypeError",
     "evalue": "cannot convert the series to <class 'int'>",
     "output_type": "error",
     "traceback": [
      "\u001b[1;31m---------------------------------------------------------------------------\u001b[0m",
      "\u001b[1;31mTypeError\u001b[0m                                 Traceback (most recent call last)",
      "Cell \u001b[1;32mIn[82], line 2\u001b[0m\n\u001b[0;32m      1\u001b[0m \u001b[38;5;66;03m#Using boolean inputs\u001b[39;00m\n\u001b[1;32m----> 2\u001b[0m students[\u001b[38;5;124m\"\u001b[39m\u001b[38;5;124mlate roll no\u001b[39m\u001b[38;5;124m\"\u001b[39m]\u001b[38;5;241m=\u001b[39m\u001b[38;5;28;43mint\u001b[39;49m\u001b[43m(\u001b[49m\u001b[43mstudents\u001b[49m\u001b[38;5;241;43m.\u001b[39;49m\u001b[43mRNo\u001b[49m\u001b[43m)\u001b[49m\u001b[38;5;241m>\u001b[39m\u001b[38;5;241m122\u001b[39m\n\u001b[0;32m      3\u001b[0m students\n",
      "File \u001b[1;32m~\\AppData\\Roaming\\Python\\Python312\\site-packages\\pandas\\core\\series.py:248\u001b[0m, in \u001b[0;36m_coerce_method.<locals>.wrapper\u001b[1;34m(self)\u001b[0m\n\u001b[0;32m    240\u001b[0m     warnings\u001b[38;5;241m.\u001b[39mwarn(\n\u001b[0;32m    241\u001b[0m         \u001b[38;5;124mf\u001b[39m\u001b[38;5;124m\"\u001b[39m\u001b[38;5;124mCalling \u001b[39m\u001b[38;5;132;01m{\u001b[39;00mconverter\u001b[38;5;241m.\u001b[39m\u001b[38;5;18m__name__\u001b[39m\u001b[38;5;132;01m}\u001b[39;00m\u001b[38;5;124m on a single element Series is \u001b[39m\u001b[38;5;124m\"\u001b[39m\n\u001b[0;32m    242\u001b[0m         \u001b[38;5;124m\"\u001b[39m\u001b[38;5;124mdeprecated and will raise a TypeError in the future. \u001b[39m\u001b[38;5;124m\"\u001b[39m\n\u001b[1;32m   (...)\u001b[0m\n\u001b[0;32m    245\u001b[0m         stacklevel\u001b[38;5;241m=\u001b[39mfind_stack_level(),\n\u001b[0;32m    246\u001b[0m     )\n\u001b[0;32m    247\u001b[0m     \u001b[38;5;28;01mreturn\u001b[39;00m converter(\u001b[38;5;28mself\u001b[39m\u001b[38;5;241m.\u001b[39miloc[\u001b[38;5;241m0\u001b[39m])\n\u001b[1;32m--> 248\u001b[0m \u001b[38;5;28;01mraise\u001b[39;00m \u001b[38;5;167;01mTypeError\u001b[39;00m(\u001b[38;5;124mf\u001b[39m\u001b[38;5;124m\"\u001b[39m\u001b[38;5;124mcannot convert the series to \u001b[39m\u001b[38;5;132;01m{\u001b[39;00mconverter\u001b[38;5;132;01m}\u001b[39;00m\u001b[38;5;124m\"\u001b[39m)\n",
      "\u001b[1;31mTypeError\u001b[0m: cannot convert the series to <class 'int'>"
     ]
    }
   ],
   "source": [
    "#Using boolean inputs\n",
    "#students[\"late roll no\"]=int(students.RNo)>122"
   ]
  },
  {
   "cell_type": "markdown",
   "metadata": {},
   "source": [
    "In case we dont want to change the original data then we need to copy the DataFrame by the syntax <code><*DataFrame*>.copy</copy>."
   ]
  },
  {
   "cell_type": "markdown",
   "metadata": {},
   "source": [
    "### Another form of DataFrame - Nested dictionary of dictionaries"
   ]
  },
  {
   "cell_type": "code",
   "execution_count": 84,
   "metadata": {},
   "outputs": [
    {
     "data": {
      "text/html": [
       "<div>\n",
       "<style scoped>\n",
       "    .dataframe tbody tr th:only-of-type {\n",
       "        vertical-align: middle;\n",
       "    }\n",
       "\n",
       "    .dataframe tbody tr th {\n",
       "        vertical-align: top;\n",
       "    }\n",
       "\n",
       "    .dataframe thead th {\n",
       "        text-align: right;\n",
       "    }\n",
       "</style>\n",
       "<table border=\"1\" class=\"dataframe\">\n",
       "  <thead>\n",
       "    <tr style=\"text-align: right;\">\n",
       "      <th></th>\n",
       "      <th>sagar</th>\n",
       "      <th>lovinish</th>\n",
       "      <th>asmit</th>\n",
       "    </tr>\n",
       "  </thead>\n",
       "  <tbody>\n",
       "    <tr>\n",
       "      <th>Rno</th>\n",
       "      <td>33</td>\n",
       "      <td>35</td>\n",
       "      <td>36</td>\n",
       "    </tr>\n",
       "    <tr>\n",
       "      <th>year</th>\n",
       "      <td>first</td>\n",
       "      <td>second</td>\n",
       "      <td>third</td>\n",
       "    </tr>\n",
       "    <tr>\n",
       "      <th>age</th>\n",
       "      <td>18</td>\n",
       "      <td>19</td>\n",
       "      <td>20</td>\n",
       "    </tr>\n",
       "  </tbody>\n",
       "</table>\n",
       "</div>"
      ],
      "text/plain": [
       "      sagar lovinish  asmit\n",
       "Rno      33       35     36\n",
       "year  first   second  third\n",
       "age      18       19     20"
      ]
     },
     "execution_count": 84,
     "metadata": {},
     "output_type": "execute_result"
    }
   ],
   "source": [
    "#DataFrame of nested dictionary of dictionaries\n",
    "dStu={\"sagar\":{\"Rno\":33,\"year\":\"first\",\"age\":18},\"lovinish\":{\"Rno\":35,\"year\":\"second\",\"age\":19},\"asmit\":{\"Rno\":36,\"year\":\"third\",\"age\":20}}\n",
    "Stu=pd.DataFrame(dStu)\n",
    "Stu"
   ]
  },
  {
   "cell_type": "code",
   "execution_count": 88,
   "metadata": {},
   "outputs": [
    {
     "data": {
      "text/html": [
       "<div>\n",
       "<style scoped>\n",
       "    .dataframe tbody tr th:only-of-type {\n",
       "        vertical-align: middle;\n",
       "    }\n",
       "\n",
       "    .dataframe tbody tr th {\n",
       "        vertical-align: top;\n",
       "    }\n",
       "\n",
       "    .dataframe thead th {\n",
       "        text-align: right;\n",
       "    }\n",
       "</style>\n",
       "<table border=\"1\" class=\"dataframe\">\n",
       "  <thead>\n",
       "    <tr style=\"text-align: right;\">\n",
       "      <th></th>\n",
       "      <th>sagar</th>\n",
       "      <th>lovinish</th>\n",
       "      <th>asmit</th>\n",
       "    </tr>\n",
       "  </thead>\n",
       "  <tbody>\n",
       "    <tr>\n",
       "      <th>year</th>\n",
       "      <td>first</td>\n",
       "      <td>second</td>\n",
       "      <td>third</td>\n",
       "    </tr>\n",
       "    <tr>\n",
       "      <th>age</th>\n",
       "      <td>18</td>\n",
       "      <td>19</td>\n",
       "      <td>20</td>\n",
       "    </tr>\n",
       "    <tr>\n",
       "      <th>Rno</th>\n",
       "      <td>33</td>\n",
       "      <td>35</td>\n",
       "      <td>36</td>\n",
       "    </tr>\n",
       "    <tr>\n",
       "      <th>surname</th>\n",
       "      <td>NaN</td>\n",
       "      <td>NaN</td>\n",
       "      <td>NaN</td>\n",
       "    </tr>\n",
       "  </tbody>\n",
       "</table>\n",
       "</div>"
      ],
      "text/plain": [
       "         sagar lovinish  asmit\n",
       "year     first   second  third\n",
       "age         18       19     20\n",
       "Rno         33       35     36\n",
       "surname    NaN      NaN    NaN"
      ]
     },
     "execution_count": 88,
     "metadata": {},
     "output_type": "execute_result"
    }
   ],
   "source": [
    "#Specifying an explicit index\n",
    "Stud=DataFrame(dStu,index=[\"year\",\"age\",\"Rno\",\"surname\"])\n",
    "Stud\n",
    "\n",
    "\n"
   ]
  },
  {
   "cell_type": "code",
   "execution_count": 90,
   "metadata": {},
   "outputs": [
    {
     "data": {
      "text/html": [
       "<div>\n",
       "<style scoped>\n",
       "    .dataframe tbody tr th:only-of-type {\n",
       "        vertical-align: middle;\n",
       "    }\n",
       "\n",
       "    .dataframe tbody tr th {\n",
       "        vertical-align: top;\n",
       "    }\n",
       "\n",
       "    .dataframe thead th {\n",
       "        text-align: right;\n",
       "    }\n",
       "</style>\n",
       "<table border=\"1\" class=\"dataframe\">\n",
       "  <thead>\n",
       "    <tr style=\"text-align: right;\">\n",
       "      <th></th>\n",
       "      <th>year</th>\n",
       "      <th>age</th>\n",
       "      <th>Rno</th>\n",
       "      <th>surname</th>\n",
       "    </tr>\n",
       "  </thead>\n",
       "  <tbody>\n",
       "    <tr>\n",
       "      <th>sagar</th>\n",
       "      <td>first</td>\n",
       "      <td>18</td>\n",
       "      <td>33</td>\n",
       "      <td>NaN</td>\n",
       "    </tr>\n",
       "    <tr>\n",
       "      <th>lovinish</th>\n",
       "      <td>second</td>\n",
       "      <td>19</td>\n",
       "      <td>35</td>\n",
       "      <td>NaN</td>\n",
       "    </tr>\n",
       "    <tr>\n",
       "      <th>asmit</th>\n",
       "      <td>third</td>\n",
       "      <td>20</td>\n",
       "      <td>36</td>\n",
       "      <td>NaN</td>\n",
       "    </tr>\n",
       "  </tbody>\n",
       "</table>\n",
       "</div>"
      ],
      "text/plain": [
       "            year age Rno surname\n",
       "sagar      first  18  33     NaN\n",
       "lovinish  second  19  35     NaN\n",
       "asmit      third  20  36     NaN"
      ]
     },
     "execution_count": 90,
     "metadata": {},
     "output_type": "execute_result"
    }
   ],
   "source": [
    "Stude=Stud.T\n",
    "Stude"
   ]
  },
  {
   "cell_type": "markdown",
   "metadata": {},
   "source": [
    "### Dictionary of Series"
   ]
  },
  {
   "cell_type": "code",
   "execution_count": 92,
   "metadata": {},
   "outputs": [
    {
     "ename": "KeyError",
     "evalue": "'sagar'",
     "output_type": "error",
     "traceback": [
      "\u001b[1;31m---------------------------------------------------------------------------\u001b[0m",
      "\u001b[1;31mKeyError\u001b[0m                                  Traceback (most recent call last)",
      "File \u001b[1;32m~\\AppData\\Roaming\\Python\\Python312\\site-packages\\pandas\\core\\indexes\\base.py:3805\u001b[0m, in \u001b[0;36mIndex.get_loc\u001b[1;34m(self, key)\u001b[0m\n\u001b[0;32m   3804\u001b[0m \u001b[38;5;28;01mtry\u001b[39;00m:\n\u001b[1;32m-> 3805\u001b[0m     \u001b[38;5;28;01mreturn\u001b[39;00m \u001b[38;5;28;43mself\u001b[39;49m\u001b[38;5;241;43m.\u001b[39;49m\u001b[43m_engine\u001b[49m\u001b[38;5;241;43m.\u001b[39;49m\u001b[43mget_loc\u001b[49m\u001b[43m(\u001b[49m\u001b[43mcasted_key\u001b[49m\u001b[43m)\u001b[49m\n\u001b[0;32m   3806\u001b[0m \u001b[38;5;28;01mexcept\u001b[39;00m \u001b[38;5;167;01mKeyError\u001b[39;00m \u001b[38;5;28;01mas\u001b[39;00m err:\n",
      "File \u001b[1;32mindex.pyx:167\u001b[0m, in \u001b[0;36mpandas._libs.index.IndexEngine.get_loc\u001b[1;34m()\u001b[0m\n",
      "File \u001b[1;32mindex.pyx:196\u001b[0m, in \u001b[0;36mpandas._libs.index.IndexEngine.get_loc\u001b[1;34m()\u001b[0m\n",
      "File \u001b[1;32mpandas\\\\_libs\\\\hashtable_class_helper.pxi:7081\u001b[0m, in \u001b[0;36mpandas._libs.hashtable.PyObjectHashTable.get_item\u001b[1;34m()\u001b[0m\n",
      "File \u001b[1;32mpandas\\\\_libs\\\\hashtable_class_helper.pxi:7089\u001b[0m, in \u001b[0;36mpandas._libs.hashtable.PyObjectHashTable.get_item\u001b[1;34m()\u001b[0m\n",
      "\u001b[1;31mKeyError\u001b[0m: 'sagar'",
      "\nThe above exception was the direct cause of the following exception:\n",
      "\u001b[1;31mKeyError\u001b[0m                                  Traceback (most recent call last)",
      "Cell \u001b[1;32mIn[92], line 1\u001b[0m\n\u001b[1;32m----> 1\u001b[0m pdata\u001b[38;5;241m=\u001b[39m{\u001b[38;5;124m\"\u001b[39m\u001b[38;5;124myear\u001b[39m\u001b[38;5;124m\"\u001b[39m:\u001b[43mStude\u001b[49m\u001b[43m[\u001b[49m\u001b[38;5;124;43m\"\u001b[39;49m\u001b[38;5;124;43msagar\u001b[39;49m\u001b[38;5;124;43m\"\u001b[39;49m\u001b[43m]\u001b[49m[\u001b[38;5;241m-\u001b[39m\u001b[38;5;241m1\u001b[39m],\u001b[38;5;124m\"\u001b[39m\u001b[38;5;124mage\u001b[39m\u001b[38;5;124m\"\u001b[39m:Stude[\u001b[38;5;124m\"\u001b[39m\u001b[38;5;124mlovinish\u001b[39m\u001b[38;5;124m\"\u001b[39m],\u001b[38;5;124m\"\u001b[39m\u001b[38;5;124mRno\u001b[39m\u001b[38;5;124m\"\u001b[39m:Stude[\u001b[38;5;124m\"\u001b[39m\u001b[38;5;124masmit\u001b[39m\u001b[38;5;124m\"\u001b[39m]}\n\u001b[0;32m      2\u001b[0m Stude_df\u001b[38;5;241m=\u001b[39mpd\u001b[38;5;241m.\u001b[39mDataFrame(pdata)\n",
      "File \u001b[1;32m~\\AppData\\Roaming\\Python\\Python312\\site-packages\\pandas\\core\\frame.py:4102\u001b[0m, in \u001b[0;36mDataFrame.__getitem__\u001b[1;34m(self, key)\u001b[0m\n\u001b[0;32m   4100\u001b[0m \u001b[38;5;28;01mif\u001b[39;00m \u001b[38;5;28mself\u001b[39m\u001b[38;5;241m.\u001b[39mcolumns\u001b[38;5;241m.\u001b[39mnlevels \u001b[38;5;241m>\u001b[39m \u001b[38;5;241m1\u001b[39m:\n\u001b[0;32m   4101\u001b[0m     \u001b[38;5;28;01mreturn\u001b[39;00m \u001b[38;5;28mself\u001b[39m\u001b[38;5;241m.\u001b[39m_getitem_multilevel(key)\n\u001b[1;32m-> 4102\u001b[0m indexer \u001b[38;5;241m=\u001b[39m \u001b[38;5;28;43mself\u001b[39;49m\u001b[38;5;241;43m.\u001b[39;49m\u001b[43mcolumns\u001b[49m\u001b[38;5;241;43m.\u001b[39;49m\u001b[43mget_loc\u001b[49m\u001b[43m(\u001b[49m\u001b[43mkey\u001b[49m\u001b[43m)\u001b[49m\n\u001b[0;32m   4103\u001b[0m \u001b[38;5;28;01mif\u001b[39;00m is_integer(indexer):\n\u001b[0;32m   4104\u001b[0m     indexer \u001b[38;5;241m=\u001b[39m [indexer]\n",
      "File \u001b[1;32m~\\AppData\\Roaming\\Python\\Python312\\site-packages\\pandas\\core\\indexes\\base.py:3812\u001b[0m, in \u001b[0;36mIndex.get_loc\u001b[1;34m(self, key)\u001b[0m\n\u001b[0;32m   3807\u001b[0m     \u001b[38;5;28;01mif\u001b[39;00m \u001b[38;5;28misinstance\u001b[39m(casted_key, \u001b[38;5;28mslice\u001b[39m) \u001b[38;5;129;01mor\u001b[39;00m (\n\u001b[0;32m   3808\u001b[0m         \u001b[38;5;28misinstance\u001b[39m(casted_key, abc\u001b[38;5;241m.\u001b[39mIterable)\n\u001b[0;32m   3809\u001b[0m         \u001b[38;5;129;01mand\u001b[39;00m \u001b[38;5;28many\u001b[39m(\u001b[38;5;28misinstance\u001b[39m(x, \u001b[38;5;28mslice\u001b[39m) \u001b[38;5;28;01mfor\u001b[39;00m x \u001b[38;5;129;01min\u001b[39;00m casted_key)\n\u001b[0;32m   3810\u001b[0m     ):\n\u001b[0;32m   3811\u001b[0m         \u001b[38;5;28;01mraise\u001b[39;00m InvalidIndexError(key)\n\u001b[1;32m-> 3812\u001b[0m     \u001b[38;5;28;01mraise\u001b[39;00m \u001b[38;5;167;01mKeyError\u001b[39;00m(key) \u001b[38;5;28;01mfrom\u001b[39;00m \u001b[38;5;21;01merr\u001b[39;00m\n\u001b[0;32m   3813\u001b[0m \u001b[38;5;28;01mexcept\u001b[39;00m \u001b[38;5;167;01mTypeError\u001b[39;00m:\n\u001b[0;32m   3814\u001b[0m     \u001b[38;5;66;03m# If we have a listlike key, _check_indexing_error will raise\u001b[39;00m\n\u001b[0;32m   3815\u001b[0m     \u001b[38;5;66;03m#  InvalidIndexError. Otherwise we fall through and re-raise\u001b[39;00m\n\u001b[0;32m   3816\u001b[0m     \u001b[38;5;66;03m#  the TypeError.\u001b[39;00m\n\u001b[0;32m   3817\u001b[0m     \u001b[38;5;28mself\u001b[39m\u001b[38;5;241m.\u001b[39m_check_indexing_error(key)\n",
      "\u001b[1;31mKeyError\u001b[0m: 'sagar'"
     ]
    }
   ],
   "source": [
    "pdata={\"year\":Stude[\"sagar\"][-1],\"age\":Stude[\"lovinish\"],\"Rno\":Stude[\"asmit\"]}\n",
    "Stude_df=pd.DataFrame(pdata)"
   ]
  },
  {
   "cell_type": "markdown",
   "metadata": {},
   "source": [
    "## Essential Functionality"
   ]
  },
  {
   "cell_type": "markdown",
   "metadata": {},
   "source": [
    "### Reindexing "
   ]
  },
  {
   "cell_type": "markdown",
   "metadata": {},
   "source": [
    "We can reindex a series or DataFrame by the syntax <code><*series*2>=<*series*>.reindex[_,_,_,_]</code>"
   ]
  },
  {
   "cell_type": "code",
   "execution_count": 98,
   "metadata": {},
   "outputs": [
    {
     "name": "stdout",
     "output_type": "stream",
     "text": [
      "a      ram\n",
      "b    shyam\n",
      "c    rohit\n",
      "dtype: object\n"
     ]
    },
    {
     "data": {
      "text/plain": [
       "b    shyam\n",
       "a      ram\n",
       "c    rohit\n",
       "dtype: object"
      ]
     },
     "execution_count": 98,
     "metadata": {},
     "output_type": "execute_result"
    }
   ],
   "source": [
    "obj=pd.Series([\"ram\",\"shyam\",\"rohit\"],index=[\"a\",\"b\",\"c\"])\n",
    "print(obj)\n",
    "obj2=obj.reindex([\"b\",\"a\",\"c\"])\n",
    "obj2"
   ]
  },
  {
   "cell_type": "markdown",
   "metadata": {},
   "source": [
    "![img](p1.png)"
   ]
  },
  {
   "cell_type": "markdown",
   "metadata": {},
   "source": [
    "## Dropping entry from an axis"
   ]
  },
  {
   "cell_type": "code",
   "execution_count": 104,
   "metadata": {},
   "outputs": [
    {
     "data": {
      "text/html": [
       "<div>\n",
       "<style scoped>\n",
       "    .dataframe tbody tr th:only-of-type {\n",
       "        vertical-align: middle;\n",
       "    }\n",
       "\n",
       "    .dataframe tbody tr th {\n",
       "        vertical-align: top;\n",
       "    }\n",
       "\n",
       "    .dataframe thead th {\n",
       "        text-align: right;\n",
       "    }\n",
       "</style>\n",
       "<table border=\"1\" class=\"dataframe\">\n",
       "  <thead>\n",
       "    <tr style=\"text-align: right;\">\n",
       "      <th>Details</th>\n",
       "      <th>RNo</th>\n",
       "      <th>Surname</th>\n",
       "      <th>Location</th>\n",
       "      <th>Year of admission</th>\n",
       "    </tr>\n",
       "  </thead>\n",
       "  <tbody>\n",
       "    <tr>\n",
       "      <th>lovinish</th>\n",
       "      <td>121</td>\n",
       "      <td>soni</td>\n",
       "      <td>delhi</td>\n",
       "      <td>2023</td>\n",
       "    </tr>\n",
       "    <tr>\n",
       "      <th>asmit</th>\n",
       "      <td>123</td>\n",
       "      <td>tripathi</td>\n",
       "      <td>lucknow</td>\n",
       "      <td>2023</td>\n",
       "    </tr>\n",
       "    <tr>\n",
       "      <th>subhrajyoti</th>\n",
       "      <td>134</td>\n",
       "      <td>adhikari</td>\n",
       "      <td>bengal</td>\n",
       "      <td>2023</td>\n",
       "    </tr>\n",
       "    <tr>\n",
       "      <th>Sagar</th>\n",
       "      <td>122</td>\n",
       "      <td>Bisht</td>\n",
       "      <td>Uttarakhand</td>\n",
       "      <td>2023</td>\n",
       "    </tr>\n",
       "    <tr>\n",
       "      <th>entry</th>\n",
       "      <td>0</td>\n",
       "      <td>1</td>\n",
       "      <td>2</td>\n",
       "      <td>3</td>\n",
       "    </tr>\n",
       "  </tbody>\n",
       "</table>\n",
       "</div>"
      ],
      "text/plain": [
       "Details      RNo   Surname     Location Year of admission\n",
       "lovinish     121      soni        delhi              2023\n",
       "asmit        123  tripathi      lucknow              2023\n",
       "subhrajyoti  134  adhikari       bengal              2023\n",
       "Sagar        122     Bisht  Uttarakhand              2023\n",
       "entry          0         1            2                 3"
      ]
     },
     "execution_count": 104,
     "metadata": {},
     "output_type": "execute_result"
    }
   ],
   "source": [
    "students"
   ]
  },
  {
   "cell_type": "code",
   "execution_count": 106,
   "metadata": {},
   "outputs": [
    {
     "data": {
      "text/html": [
       "<div>\n",
       "<style scoped>\n",
       "    .dataframe tbody tr th:only-of-type {\n",
       "        vertical-align: middle;\n",
       "    }\n",
       "\n",
       "    .dataframe tbody tr th {\n",
       "        vertical-align: top;\n",
       "    }\n",
       "\n",
       "    .dataframe thead th {\n",
       "        text-align: right;\n",
       "    }\n",
       "</style>\n",
       "<table border=\"1\" class=\"dataframe\">\n",
       "  <thead>\n",
       "    <tr style=\"text-align: right;\">\n",
       "      <th>Details</th>\n",
       "      <th>RNo</th>\n",
       "      <th>Surname</th>\n",
       "      <th>Location</th>\n",
       "      <th>Year of admission</th>\n",
       "    </tr>\n",
       "  </thead>\n",
       "  <tbody>\n",
       "    <tr>\n",
       "      <th>lovinish</th>\n",
       "      <td>121</td>\n",
       "      <td>soni</td>\n",
       "      <td>delhi</td>\n",
       "      <td>2023</td>\n",
       "    </tr>\n",
       "    <tr>\n",
       "      <th>asmit</th>\n",
       "      <td>123</td>\n",
       "      <td>tripathi</td>\n",
       "      <td>lucknow</td>\n",
       "      <td>2023</td>\n",
       "    </tr>\n",
       "    <tr>\n",
       "      <th>subhrajyoti</th>\n",
       "      <td>134</td>\n",
       "      <td>adhikari</td>\n",
       "      <td>bengal</td>\n",
       "      <td>2023</td>\n",
       "    </tr>\n",
       "    <tr>\n",
       "      <th>Sagar</th>\n",
       "      <td>122</td>\n",
       "      <td>Bisht</td>\n",
       "      <td>Uttarakhand</td>\n",
       "      <td>2023</td>\n",
       "    </tr>\n",
       "  </tbody>\n",
       "</table>\n",
       "</div>"
      ],
      "text/plain": [
       "Details      RNo   Surname     Location Year of admission\n",
       "lovinish     121      soni        delhi              2023\n",
       "asmit        123  tripathi      lucknow              2023\n",
       "subhrajyoti  134  adhikari       bengal              2023\n",
       "Sagar        122     Bisht  Uttarakhand              2023"
      ]
     },
     "execution_count": 106,
     "metadata": {},
     "output_type": "execute_result"
    }
   ],
   "source": [
    "#Dropping a row\n",
    "students.drop(\"entry\")"
   ]
  },
  {
   "cell_type": "code",
   "execution_count": 108,
   "metadata": {},
   "outputs": [
    {
     "data": {
      "text/html": [
       "<div>\n",
       "<style scoped>\n",
       "    .dataframe tbody tr th:only-of-type {\n",
       "        vertical-align: middle;\n",
       "    }\n",
       "\n",
       "    .dataframe tbody tr th {\n",
       "        vertical-align: top;\n",
       "    }\n",
       "\n",
       "    .dataframe thead th {\n",
       "        text-align: right;\n",
       "    }\n",
       "</style>\n",
       "<table border=\"1\" class=\"dataframe\">\n",
       "  <thead>\n",
       "    <tr style=\"text-align: right;\">\n",
       "      <th>Details</th>\n",
       "      <th>RNo</th>\n",
       "      <th>Surname</th>\n",
       "      <th>Location</th>\n",
       "    </tr>\n",
       "  </thead>\n",
       "  <tbody>\n",
       "    <tr>\n",
       "      <th>lovinish</th>\n",
       "      <td>121</td>\n",
       "      <td>soni</td>\n",
       "      <td>delhi</td>\n",
       "    </tr>\n",
       "    <tr>\n",
       "      <th>asmit</th>\n",
       "      <td>123</td>\n",
       "      <td>tripathi</td>\n",
       "      <td>lucknow</td>\n",
       "    </tr>\n",
       "    <tr>\n",
       "      <th>subhrajyoti</th>\n",
       "      <td>134</td>\n",
       "      <td>adhikari</td>\n",
       "      <td>bengal</td>\n",
       "    </tr>\n",
       "    <tr>\n",
       "      <th>Sagar</th>\n",
       "      <td>122</td>\n",
       "      <td>Bisht</td>\n",
       "      <td>Uttarakhand</td>\n",
       "    </tr>\n",
       "    <tr>\n",
       "      <th>entry</th>\n",
       "      <td>0</td>\n",
       "      <td>1</td>\n",
       "      <td>2</td>\n",
       "    </tr>\n",
       "  </tbody>\n",
       "</table>\n",
       "</div>"
      ],
      "text/plain": [
       "Details      RNo   Surname     Location\n",
       "lovinish     121      soni        delhi\n",
       "asmit        123  tripathi      lucknow\n",
       "subhrajyoti  134  adhikari       bengal\n",
       "Sagar        122     Bisht  Uttarakhand\n",
       "entry          0         1            2"
      ]
     },
     "execution_count": 108,
     "metadata": {},
     "output_type": "execute_result"
    }
   ],
   "source": [
    "#Dropping a column \n",
    "students.drop(\"Year of admission\",axis=1)"
   ]
  },
  {
   "cell_type": "markdown",
   "metadata": {},
   "source": [
    "In case if you want to change the actual value we use the keyword <code>inplace=True</code>."
   ]
  },
  {
   "cell_type": "markdown",
   "metadata": {},
   "source": [
    "## Indexing, Selection and Filtering"
   ]
  },
  {
   "cell_type": "markdown",
   "metadata": {},
   "source": [
    "Indexing in pandas is same as that of NumPy."
   ]
  },
  {
   "cell_type": "markdown",
   "metadata": {},
   "source": [
    "### .loc and .iloc"
   ]
  },
  {
   "cell_type": "code",
   "execution_count": 114,
   "metadata": {},
   "outputs": [
    {
     "data": {
      "text/plain": [
       "'lucknow'"
      ]
     },
     "execution_count": 114,
     "metadata": {},
     "output_type": "execute_result"
    }
   ],
   "source": [
    "#Accessing the value by .loc\n",
    "students.loc[\"asmit\",\"Location\"]"
   ]
  },
  {
   "cell_type": "code",
   "execution_count": 115,
   "metadata": {},
   "outputs": [
    {
     "data": {
      "text/plain": [
       "'lucknow'"
      ]
     },
     "execution_count": 115,
     "metadata": {},
     "output_type": "execute_result"
    }
   ],
   "source": [
    "#Accessing the value by .iloc\n",
    "students.iloc[1,2]"
   ]
  },
  {
   "cell_type": "markdown",
   "metadata": {},
   "source": [
    "### Indexing functions with slices"
   ]
  },
  {
   "cell_type": "code",
   "execution_count": 118,
   "metadata": {},
   "outputs": [
    {
     "data": {
      "text/html": [
       "<div>\n",
       "<style scoped>\n",
       "    .dataframe tbody tr th:only-of-type {\n",
       "        vertical-align: middle;\n",
       "    }\n",
       "\n",
       "    .dataframe tbody tr th {\n",
       "        vertical-align: top;\n",
       "    }\n",
       "\n",
       "    .dataframe thead th {\n",
       "        text-align: right;\n",
       "    }\n",
       "</style>\n",
       "<table border=\"1\" class=\"dataframe\">\n",
       "  <thead>\n",
       "    <tr style=\"text-align: right;\">\n",
       "      <th>Details</th>\n",
       "      <th>RNo</th>\n",
       "      <th>Surname</th>\n",
       "      <th>Location</th>\n",
       "    </tr>\n",
       "  </thead>\n",
       "  <tbody>\n",
       "    <tr>\n",
       "      <th>lovinish</th>\n",
       "      <td>121</td>\n",
       "      <td>soni</td>\n",
       "      <td>delhi</td>\n",
       "    </tr>\n",
       "    <tr>\n",
       "      <th>asmit</th>\n",
       "      <td>123</td>\n",
       "      <td>tripathi</td>\n",
       "      <td>lucknow</td>\n",
       "    </tr>\n",
       "    <tr>\n",
       "      <th>subhrajyoti</th>\n",
       "      <td>134</td>\n",
       "      <td>adhikari</td>\n",
       "      <td>bengal</td>\n",
       "    </tr>\n",
       "  </tbody>\n",
       "</table>\n",
       "</div>"
      ],
      "text/plain": [
       "Details      RNo   Surname Location\n",
       "lovinish     121      soni    delhi\n",
       "asmit        123  tripathi  lucknow\n",
       "subhrajyoti  134  adhikari   bengal"
      ]
     },
     "execution_count": 118,
     "metadata": {},
     "output_type": "execute_result"
    }
   ],
   "source": [
    "students.loc[:'subhrajyoti',:\"Location\"]"
   ]
  },
  {
   "cell_type": "markdown",
   "metadata": {},
   "source": [
    "## Arithmetic and data alignment"
   ]
  },
  {
   "cell_type": "code",
   "execution_count": 120,
   "metadata": {},
   "outputs": [
    {
     "name": "stdout",
     "output_type": "stream",
     "text": [
      "   b  c  d\n",
      "p  0  1  2\n",
      "q  3  4  5\n",
      "r  6  7  8\n",
      "   e  c  d\n",
      "s  0  1  2\n",
      "q  3  4  5\n",
      "r  6  7  8\n",
      "    b     c     d   e\n",
      "p NaN   NaN   NaN NaN\n",
      "q NaN   8.0  10.0 NaN\n",
      "r NaN  14.0  16.0 NaN\n",
      "s NaN   NaN   NaN NaN\n"
     ]
    }
   ],
   "source": [
    "df1=pd.DataFrame(np.arange(9).reshape((3,3)),columns=list(\"bcd\"),index=[\"p\",\"q\",\"r\"])\n",
    "df2=pd.DataFrame(np.arange(9).reshape((3,3)),columns=list(\"ecd\"),index=[\"s\",\"q\",\"r\"])\n",
    "print(df1)\n",
    "print(df2)\n",
    "print(df1+df2)"
   ]
  },
  {
   "cell_type": "code",
   "execution_count": 121,
   "metadata": {},
   "outputs": [
    {
     "data": {
      "text/html": [
       "<div>\n",
       "<style scoped>\n",
       "    .dataframe tbody tr th:only-of-type {\n",
       "        vertical-align: middle;\n",
       "    }\n",
       "\n",
       "    .dataframe tbody tr th {\n",
       "        vertical-align: top;\n",
       "    }\n",
       "\n",
       "    .dataframe thead th {\n",
       "        text-align: right;\n",
       "    }\n",
       "</style>\n",
       "<table border=\"1\" class=\"dataframe\">\n",
       "  <thead>\n",
       "    <tr style=\"text-align: right;\">\n",
       "      <th></th>\n",
       "      <th>b</th>\n",
       "      <th>c</th>\n",
       "      <th>d</th>\n",
       "      <th>e</th>\n",
       "    </tr>\n",
       "  </thead>\n",
       "  <tbody>\n",
       "    <tr>\n",
       "      <th>p</th>\n",
       "      <td>0.0</td>\n",
       "      <td>1.0</td>\n",
       "      <td>2.0</td>\n",
       "      <td>NaN</td>\n",
       "    </tr>\n",
       "    <tr>\n",
       "      <th>q</th>\n",
       "      <td>3.0</td>\n",
       "      <td>8.0</td>\n",
       "      <td>10.0</td>\n",
       "      <td>3.0</td>\n",
       "    </tr>\n",
       "    <tr>\n",
       "      <th>r</th>\n",
       "      <td>6.0</td>\n",
       "      <td>14.0</td>\n",
       "      <td>16.0</td>\n",
       "      <td>6.0</td>\n",
       "    </tr>\n",
       "    <tr>\n",
       "      <th>s</th>\n",
       "      <td>NaN</td>\n",
       "      <td>1.0</td>\n",
       "      <td>2.0</td>\n",
       "      <td>0.0</td>\n",
       "    </tr>\n",
       "  </tbody>\n",
       "</table>\n",
       "</div>"
      ],
      "text/plain": [
       "     b     c     d    e\n",
       "p  0.0   1.0   2.0  NaN\n",
       "q  3.0   8.0  10.0  3.0\n",
       "r  6.0  14.0  16.0  6.0\n",
       "s  NaN   1.0   2.0  0.0"
      ]
     },
     "execution_count": 121,
     "metadata": {},
     "output_type": "execute_result"
    }
   ],
   "source": [
    "df1.add(df2,fill_value=0)"
   ]
  },
  {
   "cell_type": "code",
   "execution_count": null,
   "metadata": {},
   "outputs": [],
   "source": []
  }
 ],
 "metadata": {
  "kernelspec": {
   "display_name": "Python 3",
   "language": "python",
   "name": "python3"
  },
  "language_info": {
   "codemirror_mode": {
    "name": "ipython",
    "version": 3
   },
   "file_extension": ".py",
   "mimetype": "text/x-python",
   "name": "python",
   "nbconvert_exporter": "python",
   "pygments_lexer": "ipython3",
   "version": "3.12.1"
  }
 },
 "nbformat": 4,
 "nbformat_minor": 2
}
